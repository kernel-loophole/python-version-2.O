{
  "nbformat": 4,
  "nbformat_minor": 0,
  "metadata": {
    "colab": {
      "provenance": [],
      "collapsed_sections": []
    },
    "kernelspec": {
      "name": "python3",
      "display_name": "Python 3"
    },
    "language_info": {
      "name": "python"
    }
  },
  "cells": [
    {
      "cell_type": "markdown",
      "source": [
        "\n",
        "## Matching Palindrome\n",
        "You are given a palindrome string P of length N consisting of only lowercase letters of the English alphabet. Find the shortest non-empty palindrome string Q such that P concatenated with Q forms a palindrome. Formally, the string PQ forms a palindrome."
      ],
      "metadata": {
        "id": "k2qH1_6jVf_w"
      }
    },
    {
      "cell_type": "code",
      "execution_count": 129,
      "metadata": {
        "id": "myl6DMNPFXOb"
      },
      "outputs": [],
      "source": [
        "def matching_pattren(string):\n",
        "  string_1=string[0:len(string)]\n",
        "  string_2=string[::-1]\n",
        "  # print(string_1)\n",
        "  # print(string_2)\n",
        "  if string_1==string_2:\n",
        "    # print(string)\n",
        "    return True\n",
        "  else:\n",
        "    return False"
      ]
    },
    {
      "cell_type": "code",
      "source": [
        "\n",
        "def algo_for_find_palindrome(string,counter,list_string):\n",
        "  \n",
        "  if len(string)<1:\n",
        "    print(string)\n",
        "    return string\n",
        "  if counter==len(string):\n",
        "    # print(list_string)\n",
        "    return list_string\n",
        "  \n",
        "  for i in range(0,len(string)+1):\n",
        "    # print(string[i:counter+i])\n",
        "    if string[i:counter+i]=='':\n",
        "      continue\n",
        "    list_string.append(string[i:counter+i])\n",
        "  return algo_for_find_palindrome(string,counter+1,list_string)\n",
        "\n",
        "\n",
        "  \n",
        "\n"
      ],
      "metadata": {
        "id": "6GyqEgcIGXnr"
      },
      "execution_count": 130,
      "outputs": []
    },
    {
      "cell_type": "code",
      "source": [
        "def final_function(string):\n",
        "  list_of=[]\n",
        "  counter=2\n",
        "  string_of=string\n",
        "  pal=algo_for_find_palindrome(string_of,counter,list_of)\n",
        "  palindrome_list=list()\n",
        "  for check in pal:\n",
        "    if len(check)<=1 or len(check)==1 or check==None or check=='':\n",
        "      pal.remove(check)\n",
        "    # print(check)\n",
        "  # print(pal)\n",
        "  for i in pal:\n",
        "    temp_string=''\n",
        "    temp_string=string_of+i\n",
        "    # print(temp_string)\n",
        "    if matching_pattren(temp_string):\n",
        "      \n",
        "      palindrome_list.append(i)\n",
        "  print(\"For string=====> \",string,'======',min(palindrome_list))"
      ],
      "metadata": {
        "id": "BKOZYvNEGj6-"
      },
      "execution_count": 135,
      "outputs": []
    },
    {
      "cell_type": "code",
      "source": [
        "some_test_cases=['abba','cccc','cdccdc']\n",
        "for i in some_test_cases:\n",
        "  final_function(i)"
      ],
      "metadata": {
        "colab": {
          "base_uri": "https://localhost:8080/"
        },
        "id": "DyRfIeNXL7qV",
        "outputId": "70fd7732-80df-450b-bb95-11e9cf416331"
      },
      "execution_count": 136,
      "outputs": [
        {
          "output_type": "stream",
          "name": "stdout",
          "text": [
            "For string=====>  abba ====== bba\n",
            "For string=====>  cccc ====== cc\n",
            "For string=====>  cdccdc ====== cdc\n"
          ]
        }
      ]
    },
    {
      "cell_type": "code",
      "source": [],
      "metadata": {
        "id": "oqFzC29WVFe8"
      },
      "execution_count": null,
      "outputs": []
    }
  ]
}